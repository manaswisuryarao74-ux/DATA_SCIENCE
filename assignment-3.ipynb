{
 "cells": [
  {
   "cell_type": "markdown",
   "id": "ff3b8313-03d8-4fe8-87f0-1af24b19a79c",
   "metadata": {
    "jp-MarkdownHeadingCollapsed": true
   },
   "source": [
    "# Name :- Nutan Vankalas\n",
    "# Branch :- CO"
   ]
  },
  {
   "cell_type": "markdown",
   "id": "5defe0d2-254d-430c-ae34-5d47644d265c",
   "metadata": {},
   "source": [
    "# Numpy Function"
   ]
  },
  {
   "cell_type": "code",
   "execution_count": 2,
   "id": "48a559d8-a7bc-427b-aa6d-31c5a49ce2c0",
   "metadata": {},
   "outputs": [
    {
     "name": "stdout",
     "output_type": "stream",
     "text": [
      "[1 2 3 4]\n"
     ]
    }
   ],
   "source": [
    "import numpy as nutan\n",
    "arr = nutan.array([1,2,3,4])\n",
    "print(arr)"
   ]
  },
  {
   "cell_type": "code",
   "execution_count": null,
   "id": "b50d08f3-76cf-4264-9243-ca7b97c5e020",
   "metadata": {},
   "outputs": [],
   "source": [
    "# 1. SORT"
   ]
  },
  {
   "cell_type": "code",
   "execution_count": 25,
   "id": "14df383c-bb1f-407c-87f4-a591a46de3bb",
   "metadata": {},
   "outputs": [
    {
     "name": "stdout",
     "output_type": "stream",
     "text": [
      "sorted array : [ 1  5  7 10 23 43]\n"
     ]
    }
   ],
   "source": [
    "arr1 = nutan.array([43,5,23,7,10,1]) #sorting array\n",
    "print(\"sorted array :\",nutan.sort(arr1))"
   ]
  },
  {
   "cell_type": "code",
   "execution_count": null,
   "id": "62c25c9c-909f-4576-805f-d2d0d6d16de5",
   "metadata": {},
   "outputs": [],
   "source": [
    "# 2. CLIP"
   ]
  },
  {
   "cell_type": "code",
   "execution_count": 26,
   "id": "95a3cb9f-34dc-4aed-b668-f70d0d0c4ed5",
   "metadata": {},
   "outputs": [
    {
     "data": {
      "text/plain": [
       "array([1, 2, 2, 2])"
      ]
     },
     "execution_count": 26,
     "metadata": {},
     "output_type": "execute_result"
    }
   ],
   "source": [
    "nutan.clip(arr,1,2) # limits the values in an array to a specified range.\n",
    "\n"
   ]
  },
  {
   "cell_type": "code",
   "execution_count": 5,
   "id": "d6263f32-5300-4a20-8923-6348f7530798",
   "metadata": {},
   "outputs": [],
   "source": [
    "# 3. FLOOR"
   ]
  },
  {
   "cell_type": "code",
   "execution_count": 27,
   "id": "d79f2b8d-554e-4964-bf7f-93d7cabfad25",
   "metadata": {},
   "outputs": [
    {
     "name": "stdout",
     "output_type": "stream",
     "text": [
      "Floor of array : [ 2.  3.  5. 34.  5. 23.]\n"
     ]
    }
   ],
   "source": [
    "flo = nutan.array([2.3,3.4,5.8,34.6,5.1,23.0]) #returns the largest integer less than or equal to each element in an array.\n",
    "print(\"Floor of array :\",nutan.floor(flo))"
   ]
  },
  {
   "cell_type": "code",
   "execution_count": null,
   "id": "bd40ec1d-f0fe-4924-a995-65a5b55de778",
   "metadata": {},
   "outputs": [],
   "source": [
    "# 4. ROUND"
   ]
  },
  {
   "cell_type": "code",
   "execution_count": 10,
   "id": "4856886c-b3bd-4211-90e7-a91b6a96ed12",
   "metadata": {},
   "outputs": [
    {
     "name": "stdout",
     "output_type": "stream",
     "text": [
      "Round of array : [22. 44. 68. 34.]\n"
     ]
    }
   ],
   "source": [
    "rou = nutan.array([22.433,43.5654,67.7867,34.243]) #nearest integer\n",
    "print(\"Round of array :\",nutan.round(rou))"
   ]
  },
  {
   "cell_type": "code",
   "execution_count": 11,
   "id": "d5e94979-b168-43b4-bfd7-d78a22366488",
   "metadata": {},
   "outputs": [
    {
     "name": "stdout",
     "output_type": "stream",
     "text": [
      "Round of array : [22.4 43.6 67.8 34.2]\n"
     ]
    }
   ],
   "source": [
    "rou = nutan.array([22.433,43.5654,67.7867,34.243])\n",
    "print(\"Round of array :\",nutan.round(rou,1))"
   ]
  },
  {
   "cell_type": "code",
   "execution_count": 12,
   "id": "55161dac-fd3c-4420-8e49-5576a22b68a4",
   "metadata": {},
   "outputs": [
    {
     "name": "stdout",
     "output_type": "stream",
     "text": [
      "Round of array : [22.43 43.57 67.79 34.24]\n"
     ]
    }
   ],
   "source": [
    "rou = nutan.array([22.433,43.5654,67.7867,34.243])\n",
    "print(\"Round of array :\",nutan.round(rou,2))"
   ]
  },
  {
   "cell_type": "code",
   "execution_count": null,
   "id": "fabc8918-dde9-4d5e-90cf-8abd54b2adbf",
   "metadata": {},
   "outputs": [],
   "source": [
    "# 5.CEIL"
   ]
  },
  {
   "cell_type": "code",
   "execution_count": 14,
   "id": "cd64012c-0a60-4be5-8916-357d03bdb8a8",
   "metadata": {},
   "outputs": [
    {
     "name": "stdout",
     "output_type": "stream",
     "text": [
      "CEIL : [ 3.  4.  6. 35.  6. 23.]\n"
     ]
    }
   ],
   "source": [
    "print(\"CEIL :\",nutan.ceil(flo)) # smallest integer in an array"
   ]
  },
  {
   "cell_type": "code",
   "execution_count": null,
   "id": "2f5e26c8-e973-4f97-aa15-da998a33a3ec",
   "metadata": {},
   "outputs": [],
   "source": [
    "# 6.INTERSECT"
   ]
  },
  {
   "cell_type": "code",
   "execution_count": 28,
   "id": "f2b9d64d-dc06-447b-bf15-20a920a60385",
   "metadata": {},
   "outputs": [
    {
     "name": "stdout",
     "output_type": "stream",
     "text": [
      "intersect array : [2]\n"
     ]
    }
   ],
   "source": [
    "a = nutan.array([1,2,3]) \n",
    "b = nutan.array([2,4,5])\n",
    "print(\"intersect array :\",nutan.intersect1d(a,b)) #return unique value that are present in both array"
   ]
  },
  {
   "cell_type": "code",
   "execution_count": null,
   "id": "64fa0878-1273-4ba1-afd8-a02a4de9a22b",
   "metadata": {},
   "outputs": [],
   "source": [
    "# 7.UNION"
   ]
  },
  {
   "cell_type": "code",
   "execution_count": 29,
   "id": "45513fe3-29fe-4a25-b08f-f7c4d65be2db",
   "metadata": {},
   "outputs": [
    {
     "name": "stdout",
     "output_type": "stream",
     "text": [
      "union array : [1 2 3 4 5]\n"
     ]
    }
   ],
   "source": [
    "print(\"union array :\",nutan.union1d(a,b)) #Unique values means repated value print nahi kart"
   ]
  },
  {
   "cell_type": "code",
   "execution_count": null,
   "id": "badc3e06-d9db-4417-b4d9-cdc532d15255",
   "metadata": {},
   "outputs": [],
   "source": [
    "# 8.SET DIFFERENCE"
   ]
  },
  {
   "cell_type": "code",
   "execution_count": 18,
   "id": "7b4b9631-eb35-4cc5-9ad9-8c5f74e885c7",
   "metadata": {},
   "outputs": [
    {
     "name": "stdout",
     "output_type": "stream",
     "text": [
      "set difference array : [1 3]\n"
     ]
    }
   ],
   "source": [
    "print(\"set difference array :\",nutan.setdiff1d(a,b))"
   ]
  },
  {
   "cell_type": "code",
   "execution_count": 19,
   "id": "b4bde832-fb58-423a-8e25-4cb77250dbb0",
   "metadata": {},
   "outputs": [
    {
     "name": "stdout",
     "output_type": "stream",
     "text": [
      "set difference array : [4 5]\n"
     ]
    }
   ],
   "source": [
    "print(\"set difference array :\",nutan.setdiff1d(b,a))"
   ]
  },
  {
   "cell_type": "code",
   "execution_count": null,
   "id": "8cc4f93a-2ad1-4603-ba46-43fe8b8e057e",
   "metadata": {},
   "outputs": [],
   "source": [
    "# 9.SUM"
   ]
  },
  {
   "cell_type": "code",
   "execution_count": 23,
   "id": "f4620728-7bb2-4c69-8f34-2db41acd0755",
   "metadata": {},
   "outputs": [
    {
     "name": "stdout",
     "output_type": "stream",
     "text": [
      "Sum of array : 89\n"
     ]
    }
   ],
   "source": [
    "#Sum of all elements\n",
    "print(\"Sum of array :\",nutan.sum(arr1)) "
   ]
  },
  {
   "cell_type": "code",
   "execution_count": null,
   "id": "727adada-635e-4dc3-a7be-65cb1d68c5a4",
   "metadata": {},
   "outputs": [],
   "source": [
    "# 10.PRODUCT"
   ]
  },
  {
   "cell_type": "code",
   "execution_count": 22,
   "id": "627e0a6f-2a14-461f-b75f-25410a3124f5",
   "metadata": {},
   "outputs": [
    {
     "name": "stdout",
     "output_type": "stream",
     "text": [
      "Product of array : 24\n"
     ]
    }
   ],
   "source": [
    "print(\"Product of array :\",nutan.prod(arr))"
   ]
  }
 ],
 "metadata": {
  "kernelspec": {
   "display_name": "Python 3 (ipykernel)",
   "language": "python",
   "name": "python3"
  },
  "language_info": {
   "codemirror_mode": {
    "name": "ipython",
    "version": 3
   },
   "file_extension": ".py",
   "mimetype": "text/x-python",
   "name": "python",
   "nbconvert_exporter": "python",
   "pygments_lexer": "ipython3",
   "version": "3.13.5"
  }
 },
 "nbformat": 4,
 "nbformat_minor": 5
}
