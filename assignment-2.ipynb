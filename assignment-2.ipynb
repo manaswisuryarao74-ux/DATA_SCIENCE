{
 "cells": [
  {
   "cell_type": "markdown",
   "id": "fc4f515b-959c-4cc2-a214-46b42c5875b8",
   "metadata": {},
   "source": [
    "# Set"
   ]
  },
  {
   "cell_type": "code",
   "execution_count": 1,
   "id": "88c65921-f6c4-4aa4-9b10-042a91c7bcc8",
   "metadata": {},
   "outputs": [
    {
     "data": {
      "text/plain": [
       "1"
      ]
     },
     "execution_count": 1,
     "metadata": {},
     "output_type": "execute_result"
    }
   ],
   "source": [
    "my_set = {1,2,3,4,5}\n",
    "my_set.add(6) # add new item\n",
    "my_set.remove(4) # remove an item from set\n",
    "my_set.update([6,7,8]) # update multiple items in ser\n",
    "my_set.discard(7) # remove item\n",
    "my_set.pop() # select random element than remove\n"
   ]
  },
  {
   "cell_type": "code",
   "execution_count": 30,
   "id": "70a6b15a-74ea-4d47-ae1e-abb3e032f001",
   "metadata": {},
   "outputs": [
    {
     "name": "stdout",
     "output_type": "stream",
     "text": [
      "{2, 3, 5, 6, 8}\n"
     ]
    }
   ],
   "source": [
    "print(my_set)"
   ]
  },
  {
   "cell_type": "code",
   "execution_count": 31,
   "id": "528790ea-d550-4a28-96d1-0ab303b36609",
   "metadata": {},
   "outputs": [],
   "source": [
    "my_set.clear()"
   ]
  },
  {
   "cell_type": "code",
   "execution_count": 34,
   "id": "37f36ac7-ec42-4bc3-bd45-11e90377cefd",
   "metadata": {},
   "outputs": [
    {
     "name": "stdout",
     "output_type": "stream",
     "text": [
      "set()\n"
     ]
    }
   ],
   "source": [
    "print(my_set) # clear all element"
   ]
  },
  {
   "cell_type": "code",
   "execution_count": null,
   "id": "a2a9ff1a-c3e8-46dc-97f8-d216fdd125e8",
   "metadata": {},
   "outputs": [],
   "source": []
  },
  {
   "cell_type": "markdown",
   "id": "9ceb6653-04a7-4b8a-b690-67f886695537",
   "metadata": {},
   "source": [
    "# List\n"
   ]
  },
  {
   "cell_type": "code",
   "execution_count": 43,
   "id": "cff1f8ea-3a1d-4d28-b441-2a378e935181",
   "metadata": {},
   "outputs": [],
   "source": [
    "my_list = [1,2,3,4]\n",
    "my_list.append(5) # add element\n",
    "my_list.insert(8,9) # insert an element at a specific index\n",
    "my_list.remove(3) # remove element\n",
    "my_list.reverse() # Reverses the order of the lis\n",
    "my_list.sort() # sort the list\n"
   ]
  },
  {
   "cell_type": "code",
   "execution_count": 44,
   "id": "01cbe86e-b385-4a0c-a782-705c1d9cf9f3",
   "metadata": {},
   "outputs": [
    {
     "name": "stdout",
     "output_type": "stream",
     "text": [
      "[1, 2, 4, 5, 9]\n"
     ]
    }
   ],
   "source": [
    "print(my_list)"
   ]
  },
  {
   "cell_type": "code",
   "execution_count": 46,
   "id": "782f1aca-883c-48d3-8146-0c1c690f8f3a",
   "metadata": {},
   "outputs": [],
   "source": [
    "my_list.extend([3,6]) # extend the list"
   ]
  },
  {
   "cell_type": "code",
   "execution_count": 48,
   "id": "49f3d870-c9df-4df6-8910-f9be03fcfa1f",
   "metadata": {},
   "outputs": [
    {
     "name": "stdout",
     "output_type": "stream",
     "text": [
      "[1, 2, 4, 5, 9, 3, 6]\n"
     ]
    }
   ],
   "source": [
    "print(my_list)"
   ]
  },
  {
   "cell_type": "code",
   "execution_count": 50,
   "id": "869b2266-3d3c-4591-ad19-63d792e15070",
   "metadata": {},
   "outputs": [
    {
     "name": "stdout",
     "output_type": "stream",
     "text": [
      "[]\n"
     ]
    }
   ],
   "source": [
    "my_list.clear() # remove all element from the list\n",
    "print(my_list)"
   ]
  },
  {
   "cell_type": "code",
   "execution_count": null,
   "id": "576eb654-a5a3-4543-805f-a6d9983526a2",
   "metadata": {},
   "outputs": [],
   "source": []
  },
  {
   "cell_type": "markdown",
   "id": "2aae20f8-1e81-41de-bb49-7ee09fc2ebef",
   "metadata": {},
   "source": [
    "# Tuple\n"
   ]
  },
  {
   "cell_type": "code",
   "execution_count": 51,
   "id": "a305418a-fb92-430a-946d-6a78bbd0ce60",
   "metadata": {},
   "outputs": [
    {
     "name": "stdout",
     "output_type": "stream",
     "text": [
      "nutan\n",
      "18\n"
     ]
    }
   ],
   "source": [
    "p = (\"nutan\",18,\"data\") # packing is means grouping multiple values into single tuple\n",
    "name,age,sub = p #unpacking is means \n",
    "print(name)\n",
    "print(age)"
   ]
  },
  {
   "cell_type": "code",
   "execution_count": 52,
   "id": "f016e51d-af05-4284-8b2e-98c99f946342",
   "metadata": {},
   "outputs": [
    {
     "name": "stdout",
     "output_type": "stream",
     "text": [
      "mahesh\n",
      "cricket\n"
     ]
    }
   ],
   "source": [
    "m = (\"mahesh\",10,\"cricket\") # value\n",
    "name,time,game = m # key\n",
    "print(name)\n",
    "print(game)"
   ]
  }
 ],
 "metadata": {
  "kernelspec": {
   "display_name": "Python 3 (ipykernel)",
   "language": "python",
   "name": "python3"
  },
  "language_info": {
   "codemirror_mode": {
    "name": "ipython",
    "version": 3
   },
   "file_extension": ".py",
   "mimetype": "text/x-python",
   "name": "python",
   "nbconvert_exporter": "python",
   "pygments_lexer": "ipython3",
   "version": "3.13.5"
  }
 },
 "nbformat": 4,
 "nbformat_minor": 5
}
